{
 "cells": [
  {
   "cell_type": "code",
   "execution_count": 3,
   "metadata": {},
   "outputs": [
    {
     "data": {
      "application/vnd.jupyter.widget-view+json": {
       "model_id": "a3227e56a03649158c520dfb5bd09d70",
       "version_major": 2,
       "version_minor": 0
      },
      "text/plain": [
       "interactive(children=(Checkbox(value=False, description='Use Multiclass Model?'), IntSlider(value=1, descripti…"
      ]
     },
     "metadata": {},
     "output_type": "display_data"
    },
    {
     "data": {
      "text/plain": [
       "<function __main__.update_model_and_run(use_multiclass, culture_choice)>"
      ]
     },
     "execution_count": 3,
     "metadata": {},
     "output_type": "execute_result"
    }
   ],
   "source": [
    "import os\n",
    "import matplotlib.pyplot as plt\n",
    "from ultralytics import YOLO\n",
    "from ipywidgets import interact, Dropdown, Checkbox, IntSlider\n",
    "from PIL import Image\n",
    "\n",
    "annotated_folder = \"images/annotated\"\n",
    "\n",
    "def ensure_annotated_folder_exists():\n",
    "    if not os.path.exists(annotated_folder):\n",
    "        os.makedirs(annotated_folder)\n",
    "\n",
    "def run_inference(model_path, image_folder, use_multiclass, culture_choice, conf_threshold=0.1):\n",
    "    model = YOLO(model_path, task='segment')\n",
    "    image_list = [f for f in os.listdir(image_folder) if f.lower().endswith(('.bmp', '.jpg', '.jpeg', '.png'))]\n",
    "\n",
    "    if not image_list:\n",
    "        print(\"No images found in the folder.\")\n",
    "        return\n",
    "\n",
    "    def select_image(selected_image):\n",
    "        image_path = os.path.join(image_folder, selected_image)\n",
    "        results = model(image_path, conf=conf_threshold)\n",
    "        \n",
    "        if use_multiclass:\n",
    "            class_to_detect = 0\n",
    "            results = [r for r in results if (r.boxes is not None and class_to_detect in r.boxes.cls.int())]\n",
    "        \n",
    "        annotated_image = results[0].plot(labels=False, boxes=True, masks=True)\n",
    "        ensure_annotated_folder_exists()\n",
    "        save_path = os.path.join(annotated_folder, f\"annotated_{selected_image}\")\n",
    "        Image.fromarray(annotated_image).save(save_path)\n",
    "        print(f\"Annotated image saved as {save_path}\")\n",
    "\n",
    "        class_counts = {}\n",
    "        for result in results:\n",
    "            if result.boxes is not None:\n",
    "                class_ids = result.boxes.cls.int()\n",
    "                for class_id in class_ids:\n",
    "                    class_name = model.names[class_id.item()]\n",
    "                    class_counts[class_name] = class_counts.get(class_name, 0) + 1\n",
    "\n",
    "        if class_counts:\n",
    "            for class_name, count in class_counts.items():\n",
    "                print(f\"{class_name}: {count} instances\")\n",
    "        else:\n",
    "            print(\"No objects detected.\")\n",
    "\n",
    "    interact(select_image, selected_image=Dropdown(options=image_list, description=\"Image\"))\n",
    "\n",
    "use_multiclass = Checkbox(value=False, description='Use Multiclass Model?')\n",
    "culture_choice = IntSlider(value=1, min=1, max=3, step=1, description=\"Culture\")\n",
    "\n",
    "def update_model_and_run(use_multiclass, culture_choice):\n",
    "    if use_multiclass:\n",
    "        model_path = \"weights/yolo_multiclass.onnx\"\n",
    "        image_folder = \"images/culture_1\"\n",
    "    else:\n",
    "        if culture_choice == 1:\n",
    "            model_path = \"weights/mono/yolo_culture1.onnx\"\n",
    "        elif culture_choice == 2:\n",
    "            model_path = \"weights/mono/yolo_culture2.onnx\"\n",
    "        else:\n",
    "            model_path = \"weights/mono/yolo_culture3.onnx\"\n",
    "        \n",
    "        image_folder = f\"images/culture_{culture_choice}\"\n",
    "    \n",
    "    run_inference(model_path, image_folder, use_multiclass, culture_choice)\n",
    "\n",
    "interact(update_model_and_run, use_multiclass=use_multiclass, culture_choice=culture_choice)"
   ]
  },
  {
   "cell_type": "code",
   "execution_count": null,
   "metadata": {},
   "outputs": [],
   "source": []
  }
 ],
 "metadata": {
  "kernelspec": {
   "display_name": "base",
   "language": "python",
   "name": "python3"
  },
  "language_info": {
   "codemirror_mode": {
    "name": "ipython",
    "version": 3
   },
   "file_extension": ".py",
   "mimetype": "text/x-python",
   "name": "python",
   "nbconvert_exporter": "python",
   "pygments_lexer": "ipython3",
   "version": "3.12.3"
  }
 },
 "nbformat": 4,
 "nbformat_minor": 2
}
